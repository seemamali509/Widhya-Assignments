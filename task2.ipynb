{
 "cells": [
  {
   "cell_type": "code",
   "execution_count": 31,
   "metadata": {},
   "outputs": [],
   "source": [
    "#required libraries\n",
    "import pandas as pd\n",
    "import numpy as np\n",
    "import seaborn as sns\n",
    "from scipy.stats import pearsonr\n",
    "from sklearn.linear_model import LinearRegression\n",
    "from sklearn.model_selection import train_test_split\n",
    "import matplotlib.pyplot as plt  \n",
    "%matplotlib inline"
   ]
  },
  {
   "cell_type": "code",
   "execution_count": 32,
   "metadata": {},
   "outputs": [],
   "source": [
    "#Read data\n",
    "df=pd.read_csv('https://raw.githubusercontent.com/WidhyaOrg/datasets/master/bitcoin_dataset.csv')"
   ]
  },
  {
   "cell_type": "code",
   "execution_count": 33,
   "metadata": {},
   "outputs": [
    {
     "data": {
      "text/plain": [
       "(2906, 24)"
      ]
     },
     "execution_count": 33,
     "metadata": {},
     "output_type": "execute_result"
    }
   ],
   "source": [
    "#get the shape\n",
    "df.shape"
   ]
  },
  {
   "cell_type": "code",
   "execution_count": 34,
   "metadata": {},
   "outputs": [
    {
     "data": {
      "text/html": [
       "<div>\n",
       "<style scoped>\n",
       "    .dataframe tbody tr th:only-of-type {\n",
       "        vertical-align: middle;\n",
       "    }\n",
       "\n",
       "    .dataframe tbody tr th {\n",
       "        vertical-align: top;\n",
       "    }\n",
       "\n",
       "    .dataframe thead th {\n",
       "        text-align: right;\n",
       "    }\n",
       "</style>\n",
       "<table border=\"1\" class=\"dataframe\">\n",
       "  <thead>\n",
       "    <tr style=\"text-align: right;\">\n",
       "      <th></th>\n",
       "      <th>Date</th>\n",
       "      <th>btc_market_price</th>\n",
       "      <th>btc_total_bitcoins</th>\n",
       "      <th>btc_market_cap</th>\n",
       "      <th>btc_trade_volume</th>\n",
       "      <th>btc_blocks_size</th>\n",
       "      <th>btc_avg_block_size</th>\n",
       "      <th>btc_n_orphaned_blocks</th>\n",
       "      <th>btc_n_transactions_per_block</th>\n",
       "      <th>btc_median_confirmation_time</th>\n",
       "      <th>...</th>\n",
       "      <th>btc_cost_per_transaction_percent</th>\n",
       "      <th>btc_cost_per_transaction</th>\n",
       "      <th>btc_n_unique_addresses</th>\n",
       "      <th>btc_n_transactions</th>\n",
       "      <th>btc_n_transactions_total</th>\n",
       "      <th>btc_n_transactions_excluding_popular</th>\n",
       "      <th>btc_n_transactions_excluding_chains_longer_than_100</th>\n",
       "      <th>btc_output_volume</th>\n",
       "      <th>btc_estimated_transaction_volume</th>\n",
       "      <th>btc_estimated_transaction_volume_usd</th>\n",
       "    </tr>\n",
       "  </thead>\n",
       "  <tbody>\n",
       "    <tr>\n",
       "      <th>0</th>\n",
       "      <td>2/17/2010</td>\n",
       "      <td>0.0</td>\n",
       "      <td>2043200.0</td>\n",
       "      <td>0.0</td>\n",
       "      <td>0.0</td>\n",
       "      <td>0.0</td>\n",
       "      <td>0.000235</td>\n",
       "      <td>0</td>\n",
       "      <td>1.0</td>\n",
       "      <td>0.0</td>\n",
       "      <td>...</td>\n",
       "      <td>31.781022</td>\n",
       "      <td>0.0</td>\n",
       "      <td>241</td>\n",
       "      <td>244</td>\n",
       "      <td>41240</td>\n",
       "      <td>244</td>\n",
       "      <td>244</td>\n",
       "      <td>65173.13</td>\n",
       "      <td>36500.0</td>\n",
       "      <td>0.0</td>\n",
       "    </tr>\n",
       "    <tr>\n",
       "      <th>1</th>\n",
       "      <td>2/18/2010</td>\n",
       "      <td>0.0</td>\n",
       "      <td>2054650.0</td>\n",
       "      <td>0.0</td>\n",
       "      <td>0.0</td>\n",
       "      <td>0.0</td>\n",
       "      <td>0.000241</td>\n",
       "      <td>0</td>\n",
       "      <td>1.0</td>\n",
       "      <td>0.0</td>\n",
       "      <td>...</td>\n",
       "      <td>154.463801</td>\n",
       "      <td>0.0</td>\n",
       "      <td>234</td>\n",
       "      <td>235</td>\n",
       "      <td>41475</td>\n",
       "      <td>235</td>\n",
       "      <td>235</td>\n",
       "      <td>18911.74</td>\n",
       "      <td>7413.0</td>\n",
       "      <td>0.0</td>\n",
       "    </tr>\n",
       "    <tr>\n",
       "      <th>2</th>\n",
       "      <td>2/19/2010</td>\n",
       "      <td>0.0</td>\n",
       "      <td>2063600.0</td>\n",
       "      <td>0.0</td>\n",
       "      <td>0.0</td>\n",
       "      <td>0.0</td>\n",
       "      <td>0.000228</td>\n",
       "      <td>0</td>\n",
       "      <td>1.0</td>\n",
       "      <td>0.0</td>\n",
       "      <td>...</td>\n",
       "      <td>1278.516635</td>\n",
       "      <td>0.0</td>\n",
       "      <td>185</td>\n",
       "      <td>183</td>\n",
       "      <td>41658</td>\n",
       "      <td>183</td>\n",
       "      <td>183</td>\n",
       "      <td>9749.98</td>\n",
       "      <td>700.0</td>\n",
       "      <td>0.0</td>\n",
       "    </tr>\n",
       "    <tr>\n",
       "      <th>3</th>\n",
       "      <td>2/20/2010</td>\n",
       "      <td>0.0</td>\n",
       "      <td>2074700.0</td>\n",
       "      <td>0.0</td>\n",
       "      <td>0.0</td>\n",
       "      <td>0.0</td>\n",
       "      <td>0.000218</td>\n",
       "      <td>0</td>\n",
       "      <td>1.0</td>\n",
       "      <td>0.0</td>\n",
       "      <td>...</td>\n",
       "      <td>22186.687990</td>\n",
       "      <td>0.0</td>\n",
       "      <td>224</td>\n",
       "      <td>224</td>\n",
       "      <td>41882</td>\n",
       "      <td>224</td>\n",
       "      <td>224</td>\n",
       "      <td>11150.03</td>\n",
       "      <td>50.0</td>\n",
       "      <td>0.0</td>\n",
       "    </tr>\n",
       "    <tr>\n",
       "      <th>4</th>\n",
       "      <td>2/21/2010</td>\n",
       "      <td>0.0</td>\n",
       "      <td>2085400.0</td>\n",
       "      <td>0.0</td>\n",
       "      <td>0.0</td>\n",
       "      <td>0.0</td>\n",
       "      <td>0.000234</td>\n",
       "      <td>0</td>\n",
       "      <td>1.0</td>\n",
       "      <td>0.0</td>\n",
       "      <td>...</td>\n",
       "      <td>689.179876</td>\n",
       "      <td>0.0</td>\n",
       "      <td>218</td>\n",
       "      <td>218</td>\n",
       "      <td>42100</td>\n",
       "      <td>218</td>\n",
       "      <td>218</td>\n",
       "      <td>12266.83</td>\n",
       "      <td>1553.0</td>\n",
       "      <td>0.0</td>\n",
       "    </tr>\n",
       "  </tbody>\n",
       "</table>\n",
       "<p>5 rows × 24 columns</p>\n",
       "</div>"
      ],
      "text/plain": [
       "        Date  btc_market_price  btc_total_bitcoins  btc_market_cap  \\\n",
       "0  2/17/2010               0.0           2043200.0             0.0   \n",
       "1  2/18/2010               0.0           2054650.0             0.0   \n",
       "2  2/19/2010               0.0           2063600.0             0.0   \n",
       "3  2/20/2010               0.0           2074700.0             0.0   \n",
       "4  2/21/2010               0.0           2085400.0             0.0   \n",
       "\n",
       "   btc_trade_volume  btc_blocks_size  btc_avg_block_size  \\\n",
       "0               0.0              0.0            0.000235   \n",
       "1               0.0              0.0            0.000241   \n",
       "2               0.0              0.0            0.000228   \n",
       "3               0.0              0.0            0.000218   \n",
       "4               0.0              0.0            0.000234   \n",
       "\n",
       "   btc_n_orphaned_blocks  btc_n_transactions_per_block  \\\n",
       "0                      0                           1.0   \n",
       "1                      0                           1.0   \n",
       "2                      0                           1.0   \n",
       "3                      0                           1.0   \n",
       "4                      0                           1.0   \n",
       "\n",
       "   btc_median_confirmation_time  ...  btc_cost_per_transaction_percent  \\\n",
       "0                           0.0  ...                         31.781022   \n",
       "1                           0.0  ...                        154.463801   \n",
       "2                           0.0  ...                       1278.516635   \n",
       "3                           0.0  ...                      22186.687990   \n",
       "4                           0.0  ...                        689.179876   \n",
       "\n",
       "   btc_cost_per_transaction  btc_n_unique_addresses  btc_n_transactions  \\\n",
       "0                       0.0                     241                 244   \n",
       "1                       0.0                     234                 235   \n",
       "2                       0.0                     185                 183   \n",
       "3                       0.0                     224                 224   \n",
       "4                       0.0                     218                 218   \n",
       "\n",
       "   btc_n_transactions_total  btc_n_transactions_excluding_popular  \\\n",
       "0                     41240                                   244   \n",
       "1                     41475                                   235   \n",
       "2                     41658                                   183   \n",
       "3                     41882                                   224   \n",
       "4                     42100                                   218   \n",
       "\n",
       "   btc_n_transactions_excluding_chains_longer_than_100  btc_output_volume  \\\n",
       "0                                                244             65173.13   \n",
       "1                                                235             18911.74   \n",
       "2                                                183              9749.98   \n",
       "3                                                224             11150.03   \n",
       "4                                                218             12266.83   \n",
       "\n",
       "   btc_estimated_transaction_volume  btc_estimated_transaction_volume_usd  \n",
       "0                           36500.0                                   0.0  \n",
       "1                            7413.0                                   0.0  \n",
       "2                             700.0                                   0.0  \n",
       "3                              50.0                                   0.0  \n",
       "4                            1553.0                                   0.0  \n",
       "\n",
       "[5 rows x 24 columns]"
      ]
     },
     "execution_count": 34,
     "metadata": {},
     "output_type": "execute_result"
    }
   ],
   "source": [
    "#read first 5 rows to understand the data\n",
    "df.head()"
   ]
  },
  {
   "cell_type": "code",
   "execution_count": 35,
   "metadata": {},
   "outputs": [
    {
     "data": {
      "text/plain": [
       "13.6888"
      ]
     },
     "execution_count": 35,
     "metadata": {},
     "output_type": "execute_result"
    }
   ],
   "source": [
    "#Microtask1\n",
    "df.loc[1023,'btc_market_price']"
   ]
  },
  {
   "cell_type": "code",
   "execution_count": 36,
   "metadata": {},
   "outputs": [
    {
     "data": {
      "text/html": [
       "<div>\n",
       "<style scoped>\n",
       "    .dataframe tbody tr th:only-of-type {\n",
       "        vertical-align: middle;\n",
       "    }\n",
       "\n",
       "    .dataframe tbody tr th {\n",
       "        vertical-align: top;\n",
       "    }\n",
       "\n",
       "    .dataframe thead th {\n",
       "        text-align: right;\n",
       "    }\n",
       "</style>\n",
       "<table border=\"1\" class=\"dataframe\">\n",
       "  <thead>\n",
       "    <tr style=\"text-align: right;\">\n",
       "      <th></th>\n",
       "      <th>btc_market_price</th>\n",
       "      <th>btc_total_bitcoins</th>\n",
       "      <th>btc_market_cap</th>\n",
       "      <th>btc_trade_volume</th>\n",
       "      <th>btc_blocks_size</th>\n",
       "      <th>btc_avg_block_size</th>\n",
       "      <th>btc_n_orphaned_blocks</th>\n",
       "      <th>btc_n_transactions_per_block</th>\n",
       "      <th>btc_median_confirmation_time</th>\n",
       "      <th>btc_hash_rate</th>\n",
       "      <th>...</th>\n",
       "      <th>btc_cost_per_transaction_percent</th>\n",
       "      <th>btc_cost_per_transaction</th>\n",
       "      <th>btc_n_unique_addresses</th>\n",
       "      <th>btc_n_transactions</th>\n",
       "      <th>btc_n_transactions_total</th>\n",
       "      <th>btc_n_transactions_excluding_popular</th>\n",
       "      <th>btc_n_transactions_excluding_chains_longer_than_100</th>\n",
       "      <th>btc_output_volume</th>\n",
       "      <th>btc_estimated_transaction_volume</th>\n",
       "      <th>btc_estimated_transaction_volume_usd</th>\n",
       "    </tr>\n",
       "  </thead>\n",
       "  <tbody>\n",
       "    <tr>\n",
       "      <th>count</th>\n",
       "      <td>2906.000000</td>\n",
       "      <td>2.879000e+03</td>\n",
       "      <td>2.906000e+03</td>\n",
       "      <td>2.885000e+03</td>\n",
       "      <td>2877.000000</td>\n",
       "      <td>2906.000000</td>\n",
       "      <td>2906.000000</td>\n",
       "      <td>2906.000000</td>\n",
       "      <td>2894.000000</td>\n",
       "      <td>2.906000e+03</td>\n",
       "      <td>...</td>\n",
       "      <td>2906.000000</td>\n",
       "      <td>2906.000000</td>\n",
       "      <td>2.906000e+03</td>\n",
       "      <td>2906.000000</td>\n",
       "      <td>2.906000e+03</td>\n",
       "      <td>2906.000000</td>\n",
       "      <td>2906.000000</td>\n",
       "      <td>2.906000e+03</td>\n",
       "      <td>2.906000e+03</td>\n",
       "      <td>2.906000e+03</td>\n",
       "    </tr>\n",
       "    <tr>\n",
       "      <th>mean</th>\n",
       "      <td>839.104218</td>\n",
       "      <td>1.151138e+07</td>\n",
       "      <td>1.344352e+10</td>\n",
       "      <td>7.398381e+07</td>\n",
       "      <td>35505.502848</td>\n",
       "      <td>0.350366</td>\n",
       "      <td>0.364074</td>\n",
       "      <td>671.673651</td>\n",
       "      <td>7.501113</td>\n",
       "      <td>1.244070e+06</td>\n",
       "      <td>...</td>\n",
       "      <td>66.747821</td>\n",
       "      <td>14.639125</td>\n",
       "      <td>1.937861e+05</td>\n",
       "      <td>102081.138334</td>\n",
       "      <td>6.844558e+07</td>\n",
       "      <td>94348.852374</td>\n",
       "      <td>63140.320028</td>\n",
       "      <td>1.566216e+06</td>\n",
       "      <td>2.036475e+05</td>\n",
       "      <td>2.024338e+08</td>\n",
       "    </tr>\n",
       "    <tr>\n",
       "      <th>std</th>\n",
       "      <td>2304.972497</td>\n",
       "      <td>4.200024e+06</td>\n",
       "      <td>3.866841e+10</td>\n",
       "      <td>2.924228e+08</td>\n",
       "      <td>43618.633821</td>\n",
       "      <td>0.353168</td>\n",
       "      <td>0.842259</td>\n",
       "      <td>689.561322</td>\n",
       "      <td>4.974549</td>\n",
       "      <td>2.924141e+06</td>\n",
       "      <td>...</td>\n",
       "      <td>1761.894646</td>\n",
       "      <td>20.536083</td>\n",
       "      <td>2.089146e+05</td>\n",
       "      <td>103896.929350</td>\n",
       "      <td>8.285341e+07</td>\n",
       "      <td>103966.111763</td>\n",
       "      <td>69687.052174</td>\n",
       "      <td>2.278910e+06</td>\n",
       "      <td>2.682781e+05</td>\n",
       "      <td>5.800513e+08</td>\n",
       "    </tr>\n",
       "    <tr>\n",
       "      <th>min</th>\n",
       "      <td>0.000000</td>\n",
       "      <td>2.043200e+06</td>\n",
       "      <td>0.000000e+00</td>\n",
       "      <td>0.000000e+00</td>\n",
       "      <td>0.000000</td>\n",
       "      <td>0.000216</td>\n",
       "      <td>0.000000</td>\n",
       "      <td>1.000000</td>\n",
       "      <td>0.000000</td>\n",
       "      <td>2.250000e-05</td>\n",
       "      <td>...</td>\n",
       "      <td>0.136531</td>\n",
       "      <td>0.000000</td>\n",
       "      <td>1.100000e+02</td>\n",
       "      <td>118.000000</td>\n",
       "      <td>4.124000e+04</td>\n",
       "      <td>118.000000</td>\n",
       "      <td>118.000000</td>\n",
       "      <td>6.150000e+03</td>\n",
       "      <td>7.000000e+00</td>\n",
       "      <td>0.000000e+00</td>\n",
       "    </tr>\n",
       "    <tr>\n",
       "      <th>25%</th>\n",
       "      <td>6.653465</td>\n",
       "      <td>8.485300e+06</td>\n",
       "      <td>5.363081e+07</td>\n",
       "      <td>2.916456e+05</td>\n",
       "      <td>781.000000</td>\n",
       "      <td>0.024177</td>\n",
       "      <td>0.000000</td>\n",
       "      <td>54.000000</td>\n",
       "      <td>6.066667</td>\n",
       "      <td>1.160880e+01</td>\n",
       "      <td>...</td>\n",
       "      <td>1.181945</td>\n",
       "      <td>4.156470</td>\n",
       "      <td>1.675475e+04</td>\n",
       "      <td>8025.250000</td>\n",
       "      <td>2.413376e+06</td>\n",
       "      <td>6813.500000</td>\n",
       "      <td>6765.500000</td>\n",
       "      <td>4.901712e+05</td>\n",
       "      <td>9.600325e+04</td>\n",
       "      <td>9.581680e+05</td>\n",
       "    </tr>\n",
       "    <tr>\n",
       "      <th>50%</th>\n",
       "      <td>235.130000</td>\n",
       "      <td>1.243115e+07</td>\n",
       "      <td>3.346869e+09</td>\n",
       "      <td>1.001414e+07</td>\n",
       "      <td>15183.000000</td>\n",
       "      <td>0.196022</td>\n",
       "      <td>0.000000</td>\n",
       "      <td>375.000000</td>\n",
       "      <td>7.916667</td>\n",
       "      <td>2.176189e+04</td>\n",
       "      <td>...</td>\n",
       "      <td>2.493564</td>\n",
       "      <td>7.822430</td>\n",
       "      <td>1.304450e+05</td>\n",
       "      <td>62337.000000</td>\n",
       "      <td>3.255271e+07</td>\n",
       "      <td>53483.000000</td>\n",
       "      <td>35283.500000</td>\n",
       "      <td>1.105205e+06</td>\n",
       "      <td>1.784685e+05</td>\n",
       "      <td>3.742576e+07</td>\n",
       "    </tr>\n",
       "    <tr>\n",
       "      <th>75%</th>\n",
       "      <td>594.191164</td>\n",
       "      <td>1.520051e+07</td>\n",
       "      <td>8.075525e+09</td>\n",
       "      <td>2.834038e+07</td>\n",
       "      <td>58293.000000</td>\n",
       "      <td>0.676065</td>\n",
       "      <td>0.000000</td>\n",
       "      <td>1232.995223</td>\n",
       "      <td>10.208333</td>\n",
       "      <td>1.035363e+06</td>\n",
       "      <td>...</td>\n",
       "      <td>5.915591</td>\n",
       "      <td>14.800589</td>\n",
       "      <td>3.603765e+05</td>\n",
       "      <td>190471.250000</td>\n",
       "      <td>1.080663e+08</td>\n",
       "      <td>185901.750000</td>\n",
       "      <td>113793.250000</td>\n",
       "      <td>2.031654e+06</td>\n",
       "      <td>2.588046e+05</td>\n",
       "      <td>1.312499e+08</td>\n",
       "    </tr>\n",
       "    <tr>\n",
       "      <th>max</th>\n",
       "      <td>19498.683330</td>\n",
       "      <td>1.683769e+07</td>\n",
       "      <td>3.270000e+11</td>\n",
       "      <td>5.352016e+09</td>\n",
       "      <td>154444.590300</td>\n",
       "      <td>1.110327</td>\n",
       "      <td>7.000000</td>\n",
       "      <td>2722.625000</td>\n",
       "      <td>47.733333</td>\n",
       "      <td>2.160975e+07</td>\n",
       "      <td>...</td>\n",
       "      <td>88571.428570</td>\n",
       "      <td>161.686071</td>\n",
       "      <td>1.072861e+06</td>\n",
       "      <td>490644.000000</td>\n",
       "      <td>2.966888e+08</td>\n",
       "      <td>470650.000000</td>\n",
       "      <td>318896.000000</td>\n",
       "      <td>4.599222e+07</td>\n",
       "      <td>5.825066e+06</td>\n",
       "      <td>5.760245e+09</td>\n",
       "    </tr>\n",
       "  </tbody>\n",
       "</table>\n",
       "<p>8 rows × 23 columns</p>\n",
       "</div>"
      ],
      "text/plain": [
       "       btc_market_price  btc_total_bitcoins  btc_market_cap  btc_trade_volume  \\\n",
       "count       2906.000000        2.879000e+03    2.906000e+03      2.885000e+03   \n",
       "mean         839.104218        1.151138e+07    1.344352e+10      7.398381e+07   \n",
       "std         2304.972497        4.200024e+06    3.866841e+10      2.924228e+08   \n",
       "min            0.000000        2.043200e+06    0.000000e+00      0.000000e+00   \n",
       "25%            6.653465        8.485300e+06    5.363081e+07      2.916456e+05   \n",
       "50%          235.130000        1.243115e+07    3.346869e+09      1.001414e+07   \n",
       "75%          594.191164        1.520051e+07    8.075525e+09      2.834038e+07   \n",
       "max        19498.683330        1.683769e+07    3.270000e+11      5.352016e+09   \n",
       "\n",
       "       btc_blocks_size  btc_avg_block_size  btc_n_orphaned_blocks  \\\n",
       "count      2877.000000         2906.000000            2906.000000   \n",
       "mean      35505.502848            0.350366               0.364074   \n",
       "std       43618.633821            0.353168               0.842259   \n",
       "min           0.000000            0.000216               0.000000   \n",
       "25%         781.000000            0.024177               0.000000   \n",
       "50%       15183.000000            0.196022               0.000000   \n",
       "75%       58293.000000            0.676065               0.000000   \n",
       "max      154444.590300            1.110327               7.000000   \n",
       "\n",
       "       btc_n_transactions_per_block  btc_median_confirmation_time  \\\n",
       "count                   2906.000000                   2894.000000   \n",
       "mean                     671.673651                      7.501113   \n",
       "std                      689.561322                      4.974549   \n",
       "min                        1.000000                      0.000000   \n",
       "25%                       54.000000                      6.066667   \n",
       "50%                      375.000000                      7.916667   \n",
       "75%                     1232.995223                     10.208333   \n",
       "max                     2722.625000                     47.733333   \n",
       "\n",
       "       btc_hash_rate  ...  btc_cost_per_transaction_percent  \\\n",
       "count   2.906000e+03  ...                       2906.000000   \n",
       "mean    1.244070e+06  ...                         66.747821   \n",
       "std     2.924141e+06  ...                       1761.894646   \n",
       "min     2.250000e-05  ...                          0.136531   \n",
       "25%     1.160880e+01  ...                          1.181945   \n",
       "50%     2.176189e+04  ...                          2.493564   \n",
       "75%     1.035363e+06  ...                          5.915591   \n",
       "max     2.160975e+07  ...                      88571.428570   \n",
       "\n",
       "       btc_cost_per_transaction  btc_n_unique_addresses  btc_n_transactions  \\\n",
       "count               2906.000000            2.906000e+03         2906.000000   \n",
       "mean                  14.639125            1.937861e+05       102081.138334   \n",
       "std                   20.536083            2.089146e+05       103896.929350   \n",
       "min                    0.000000            1.100000e+02          118.000000   \n",
       "25%                    4.156470            1.675475e+04         8025.250000   \n",
       "50%                    7.822430            1.304450e+05        62337.000000   \n",
       "75%                   14.800589            3.603765e+05       190471.250000   \n",
       "max                  161.686071            1.072861e+06       490644.000000   \n",
       "\n",
       "       btc_n_transactions_total  btc_n_transactions_excluding_popular  \\\n",
       "count              2.906000e+03                           2906.000000   \n",
       "mean               6.844558e+07                          94348.852374   \n",
       "std                8.285341e+07                         103966.111763   \n",
       "min                4.124000e+04                            118.000000   \n",
       "25%                2.413376e+06                           6813.500000   \n",
       "50%                3.255271e+07                          53483.000000   \n",
       "75%                1.080663e+08                         185901.750000   \n",
       "max                2.966888e+08                         470650.000000   \n",
       "\n",
       "       btc_n_transactions_excluding_chains_longer_than_100  btc_output_volume  \\\n",
       "count                                        2906.000000         2.906000e+03   \n",
       "mean                                        63140.320028         1.566216e+06   \n",
       "std                                         69687.052174         2.278910e+06   \n",
       "min                                           118.000000         6.150000e+03   \n",
       "25%                                          6765.500000         4.901712e+05   \n",
       "50%                                         35283.500000         1.105205e+06   \n",
       "75%                                        113793.250000         2.031654e+06   \n",
       "max                                        318896.000000         4.599222e+07   \n",
       "\n",
       "       btc_estimated_transaction_volume  btc_estimated_transaction_volume_usd  \n",
       "count                      2.906000e+03                          2.906000e+03  \n",
       "mean                       2.036475e+05                          2.024338e+08  \n",
       "std                        2.682781e+05                          5.800513e+08  \n",
       "min                        7.000000e+00                          0.000000e+00  \n",
       "25%                        9.600325e+04                          9.581680e+05  \n",
       "50%                        1.784685e+05                          3.742576e+07  \n",
       "75%                        2.588046e+05                          1.312499e+08  \n",
       "max                        5.825066e+06                          5.760245e+09  \n",
       "\n",
       "[8 rows x 23 columns]"
      ]
     },
     "execution_count": 36,
     "metadata": {},
     "output_type": "execute_result"
    }
   ],
   "source": [
    "#get the statistical info\n",
    "df.describe()"
   ]
  },
  {
   "cell_type": "code",
   "execution_count": 37,
   "metadata": {},
   "outputs": [
    {
     "data": {
      "text/plain": [
       "<matplotlib.axes._subplots.AxesSubplot at 0x1cb32350c70>"
      ]
     },
     "execution_count": 37,
     "metadata": {},
     "output_type": "execute_result"
    },
    {
     "data": {
      "image/png": "[encoded data removed]",
      "text/plain": [
       "<Figure size 432x288 with 2 Axes>"
      ]
     },
     "metadata": {
      "needs_background": "light"
     },
     "output_type": "display_data"
    }
   ],
   "source": [
    "sns.heatmap(df.corr())"
   ]
  },
  {
   "cell_type": "code",
   "execution_count": 38,
   "metadata": {},
   "outputs": [],
   "source": [
    "#from the above coorelation we can conclude 'btc_market_cap' is highy correlated to btc_market_price"
   ]
  },
  {
   "cell_type": "code",
   "execution_count": 39,
   "metadata": {},
   "outputs": [
    {
     "name": "stderr",
     "output_type": "stream",
     "text": [
      "C:\\Users\\Seema\\anaconda3\\lib\\site-packages\\seaborn\\axisgrid.py:1840: UserWarning: JointGrid annotation is deprecated and will be removed in a future release.\n",
      "  warnings.warn(UserWarning(msg))\n"
     ]
    },
    {
     "data": {
      "text/plain": [
       "<seaborn.axisgrid.JointGrid at 0x1cb3307dbe0>"
      ]
     },
     "execution_count": 39,
     "metadata": {},
     "output_type": "execute_result"
    },
    {
     "data": {
      "image/png": "[encoded data removed]",
      "text/plain": [
       "<Figure size 432x432 with 3 Axes>"
      ]
     },
     "metadata": {
      "needs_background": "light"
     },
     "output_type": "display_data"
    }
   ],
   "source": [
    "#draw the joint plot as microtask says\n",
    "sns.jointplot(x=df['btc_market_price'],y=df['btc_market_cap'],kind=\"reg\",stat_func=pearsonr)"
   ]
  },
  {
   "cell_type": "code",
   "execution_count": 40,
   "metadata": {},
   "outputs": [
    {
     "data": {
      "text/plain": [
       "Date                                                    0\n",
       "btc_market_price                                        0\n",
       "btc_total_bitcoins                                     27\n",
       "btc_market_cap                                          0\n",
       "btc_trade_volume                                       21\n",
       "btc_blocks_size                                        29\n",
       "btc_avg_block_size                                      0\n",
       "btc_n_orphaned_blocks                                   0\n",
       "btc_n_transactions_per_block                            0\n",
       "btc_median_confirmation_time                           12\n",
       "btc_hash_rate                                           0\n",
       "btc_difficulty                                         16\n",
       "btc_miners_revenue                                      0\n",
       "btc_transaction_fees                                   10\n",
       "btc_cost_per_transaction_percent                        0\n",
       "btc_cost_per_transaction                                0\n",
       "btc_n_unique_addresses                                  0\n",
       "btc_n_transactions                                      0\n",
       "btc_n_transactions_total                                0\n",
       "btc_n_transactions_excluding_popular                    0\n",
       "btc_n_transactions_excluding_chains_longer_than_100     0\n",
       "btc_output_volume                                       0\n",
       "btc_estimated_transaction_volume                        0\n",
       "btc_estimated_transaction_volume_usd                    0\n",
       "dtype: int64"
      ]
     },
     "execution_count": 40,
     "metadata": {},
     "output_type": "execute_result"
    }
   ],
   "source": [
    "#to know is there any null values\n",
    "df.isnull().sum()"
   ]
  },
  {
   "cell_type": "code",
   "execution_count": 41,
   "metadata": {},
   "outputs": [],
   "source": [
    "#fill in null values for all the coluns\n",
    "#in this column as the day is in assending order instaed of mean better to place previous index values of the same column\n",
    "df['btc_total_bitcoins']=df['btc_total_bitcoins'].fillna(method='pad')\n"
   ]
  },
  {
   "cell_type": "code",
   "execution_count": 42,
   "metadata": {},
   "outputs": [],
   "source": [
    "df['btc_trade_volume']=df['btc_trade_volume'].fillna(df['btc_trade_volume'].mean())\n"
   ]
  },
  {
   "cell_type": "code",
   "execution_count": 43,
   "metadata": {},
   "outputs": [],
   "source": [
    "df['btc_blocks_size']=df['btc_blocks_size'].fillna(df['btc_blocks_size'].mean())\n"
   ]
  },
  {
   "cell_type": "code",
   "execution_count": 44,
   "metadata": {},
   "outputs": [],
   "source": [
    "df['btc_median_confirmation_time']=df['btc_median_confirmation_time'].fillna(df['btc_median_confirmation_time'].mean())\n"
   ]
  },
  {
   "cell_type": "code",
   "execution_count": 45,
   "metadata": {},
   "outputs": [],
   "source": [
    "df['btc_difficulty']=df['btc_difficulty'].fillna(df['btc_difficulty'].mean())\n"
   ]
  },
  {
   "cell_type": "code",
   "execution_count": 46,
   "metadata": {},
   "outputs": [],
   "source": [
    "df['btc_transaction_fees']=df['btc_transaction_fees'].fillna(df['btc_transaction_fees'].mean())\n"
   ]
  },
  {
   "cell_type": "code",
   "execution_count": 47,
   "metadata": {},
   "outputs": [
    {
     "name": "stdout",
     "output_type": "stream",
     "text": [
      "datetime64[ns]\n"
     ]
    }
   ],
   "source": [
    "#Conver object datatype to datetime64 and then to int64\n",
    "df['Date']=pd.to_datetime(df['Date'], format='%m/%d/%Y')\n",
    "print(df['Date'].dtypes)"
   ]
  },
  {
   "cell_type": "code",
   "execution_count": 49,
   "metadata": {},
   "outputs": [],
   "source": [
    "df['Date']=pd.to_numeric(df['Date'])"
   ]
  },
  {
   "cell_type": "code",
   "execution_count": 50,
   "metadata": {},
   "outputs": [],
   "source": [
    "#Training the model, put X and y values as appropriate\n",
    "X=df[['Date','btc_market_cap','btc_miners_revenue','btc_estimated_transaction_volume_usd']]\n",
    "y=df['btc_market_price']\n",
    "#print(X,y)"
   ]
  },
  {
   "cell_type": "code",
   "execution_count": 51,
   "metadata": {},
   "outputs": [],
   "source": [
    "#data splitting for test data\n",
    "X_train,X_test,y_train,y_test=train_test_split(X,y,test_size=0.2,random_state=0)"
   ]
  },
  {
   "cell_type": "code",
   "execution_count": 52,
   "metadata": {},
   "outputs": [
    {
     "name": "stdout",
     "output_type": "stream",
     "text": [
      "(2324, 4)\n",
      "(2324, 1)\n",
      "(582, 4)\n",
      "(582,)\n"
     ]
    }
   ],
   "source": [
    "#X_train=X_train.values.reshape(-1,1)\n",
    "y_train=y_train.values.reshape(-1,1)\n",
    "print(X_train.shape)\n",
    "print(y_train.shape)\n",
    "print(X_test.shape)\n",
    "print(y_test.shape)"
   ]
  },
  {
   "cell_type": "code",
   "execution_count": 53,
   "metadata": {},
   "outputs": [
    {
     "data": {
      "text/plain": [
       "LinearRegression()"
      ]
     },
     "execution_count": 53,
     "metadata": {},
     "output_type": "execute_result"
    }
   ],
   "source": [
    "#Linear Regression model\n",
    "lreg=LinearRegression()\n",
    "lreg.fit(X_train,y_train)\n"
   ]
  },
  {
   "cell_type": "code",
   "execution_count": 54,
   "metadata": {},
   "outputs": [
    {
     "name": "stdout",
     "output_type": "stream",
     "text": [
      "lreg.coef_: [[ 2.98948374e-16  5.64333101e-08  2.31372347e-05 -2.97541412e-08]]\n"
     ]
    }
   ],
   "source": [
    "print(\"lreg.coef_:\",lreg.coef_)"
   ]
  },
  {
   "cell_type": "code",
   "execution_count": 55,
   "metadata": {},
   "outputs": [
    {
     "name": "stdout",
     "output_type": "stream",
     "text": [
      "lreg.intercept_: [-379.67345717]\n"
     ]
    }
   ],
   "source": [
    "print(\"lreg.intercept_:\",lreg.intercept_)"
   ]
  },
  {
   "cell_type": "code",
   "execution_count": 56,
   "metadata": {},
   "outputs": [],
   "source": [
    "#reshaping of Coef_\n",
    "new_lreg_coef_=(lreg.coef_).reshape(-1,1)"
   ]
  },
  {
   "cell_type": "code",
   "execution_count": 57,
   "metadata": {},
   "outputs": [
    {
     "data": {
      "text/html": [
       "<div>\n",
       "<style scoped>\n",
       "    .dataframe tbody tr th:only-of-type {\n",
       "        vertical-align: middle;\n",
       "    }\n",
       "\n",
       "    .dataframe tbody tr th {\n",
       "        vertical-align: top;\n",
       "    }\n",
       "\n",
       "    .dataframe thead th {\n",
       "        text-align: right;\n",
       "    }\n",
       "</style>\n",
       "<table border=\"1\" class=\"dataframe\">\n",
       "  <thead>\n",
       "    <tr style=\"text-align: right;\">\n",
       "      <th></th>\n",
       "      <th>Coeff</th>\n",
       "    </tr>\n",
       "  </thead>\n",
       "  <tbody>\n",
       "    <tr>\n",
       "      <th>Date</th>\n",
       "      <td>2.989484e-16</td>\n",
       "    </tr>\n",
       "    <tr>\n",
       "      <th>btc_market_cap</th>\n",
       "      <td>5.643331e-08</td>\n",
       "    </tr>\n",
       "    <tr>\n",
       "      <th>btc_miners_revenue</th>\n",
       "      <td>2.313723e-05</td>\n",
       "    </tr>\n",
       "    <tr>\n",
       "      <th>btc_estimated_transaction_volume_usd</th>\n",
       "      <td>-2.975414e-08</td>\n",
       "    </tr>\n",
       "  </tbody>\n",
       "</table>\n",
       "</div>"
      ],
      "text/plain": [
       "                                             Coeff\n",
       "Date                                  2.989484e-16\n",
       "btc_market_cap                        5.643331e-08\n",
       "btc_miners_revenue                    2.313723e-05\n",
       "btc_estimated_transaction_volume_usd -2.975414e-08"
      ]
     },
     "execution_count": 57,
     "metadata": {},
     "output_type": "execute_result"
    }
   ],
   "source": [
    "#Read coeffi column wise\n",
    "pd.DataFrame(new_lreg_coef_, X.columns, columns = ['Coeff'])"
   ]
  },
  {
   "cell_type": "code",
   "execution_count": 58,
   "metadata": {},
   "outputs": [],
   "source": [
    "#predict value of y\n",
    "y_predict=lreg.predict(X_test)"
   ]
  },
  {
   "cell_type": "code",
   "execution_count": 59,
   "metadata": {},
   "outputs": [
    {
     "data": {
      "text/plain": [
       "<matplotlib.collections.PathCollection at 0x1cb343ede20>"
      ]
     },
     "execution_count": 59,
     "metadata": {},
     "output_type": "execute_result"
    },
    {
     "data": {
      "image/png": "[encoded data removed]",
      "text/plain": [
       "<Figure size 432x288 with 1 Axes>"
      ]
     },
     "metadata": {
      "needs_background": "light"
     },
     "output_type": "display_data"
    }
   ],
   "source": [
    "#scatter plot to understand the data\n",
    "plt.scatter(y_test,y_predict)"
   ]
  },
  {
   "cell_type": "code",
   "execution_count": 60,
   "metadata": {},
   "outputs": [
    {
     "name": "stdout",
     "output_type": "stream",
     "text": [
      "1422.5865427141327 24.211590785843914 37.71719160693347\n"
     ]
    }
   ],
   "source": [
    "#evaluating the performance model\n",
    "from sklearn import metrics\n",
    "MSE=metrics.mean_squared_error(y_test,y_predict)\n",
    "MAE=metrics.mean_absolute_error(y_test,y_predict)\n",
    "RMSE=np.sqrt(metrics.mean_squared_error(y_test,y_predict))\n",
    "print(MSE,MAE,RMSE)"
   ]
  },
  {
   "cell_type": "code",
   "execution_count": 61,
   "metadata": {},
   "outputs": [
    {
     "data": {
      "text/plain": [
       "0.9996961000789857"
      ]
     },
     "execution_count": 61,
     "metadata": {},
     "output_type": "execute_result"
    }
   ],
   "source": [
    "lreg.score(X_train,y_train)"
   ]
  },
  {
   "cell_type": "code",
   "execution_count": 62,
   "metadata": {},
   "outputs": [
    {
     "data": {
      "text/plain": [
       "0.9997746078991544"
      ]
     },
     "execution_count": 62,
     "metadata": {},
     "output_type": "execute_result"
    }
   ],
   "source": [
    "lreg.score(X_test,y_test)"
   ]
  },
  {
   "cell_type": "code",
   "execution_count": null,
   "metadata": {},
   "outputs": [],
   "source": []
  }
 ],
 "metadata": {
  "kernelspec": {
   "display_name": "Python 3",
   "language": "python",
   "name": "python3"
  },
  "language_info": {
   "codemirror_mode": {
    "name": "ipython",
    "version": 3
   },
   "file_extension": ".py",
   "mimetype": "text/x-python",
   "name": "python",
   "nbconvert_exporter": "python",
   "pygments_lexer": "ipython3",
   "version": "3.8.3"
  }
 },
 "nbformat": 4,
 "nbformat_minor": 4
}
